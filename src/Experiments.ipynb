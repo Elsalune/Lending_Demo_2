{
 "cells": [
  {
   "cell_type": "markdown",
   "metadata": {},
   "source": [
    "# Data import"
   ]
  },
  {
   "cell_type": "code",
   "execution_count": null,
   "metadata": {
    "collapsed": true
   },
   "outputs": [],
   "source": [
    "import pandas as pd\n",
    "import numpy as np"
   ]
  },
  {
   "cell_type": "code",
   "execution_count": null,
   "metadata": {
    "collapsed": true
   },
   "outputs": [],
   "source": [
    "data = pd.read_csv(\"../inputs/loan.csv\")"
   ]
  },
  {
   "cell_type": "markdown",
   "metadata": {},
   "source": [
    "We should specify:\n",
    "\n",
    "* dates to parse\n",
    "* proper dtypes\n",
    "* possible head sampling to go faster"
   ]
  },
  {
   "cell_type": "code",
   "execution_count": null,
   "metadata": {
    "collapsed": true
   },
   "outputs": [],
   "source": [
    "data.columns[[19, 55]]"
   ]
  },
  {
   "cell_type": "code",
   "execution_count": null,
   "metadata": {
    "collapsed": true
   },
   "outputs": [],
   "source": [
    "data.columns"
   ]
  },
  {
   "cell_type": "code",
   "execution_count": null,
   "metadata": {
    "collapsed": true
   },
   "outputs": [],
   "source": [
    "data.last_credit_pull_d.head()"
   ]
  },
  {
   "cell_type": "code",
   "execution_count": null,
   "metadata": {
    "collapsed": true
   },
   "outputs": [],
   "source": [
    "dates_to_parse = ['earliest_cr_line'] +\\\n",
    "                 [col for col in data.columns if col.endswith('_d')]\n",
    "\n",
    "dates_to_parse"
   ]
  },
  {
   "cell_type": "code",
   "execution_count": null,
   "metadata": {
    "collapsed": true
   },
   "outputs": [],
   "source": [
    "dtype = {\n",
    "    'desc': 'object',\n",
    "    'verification_status_joint': 'category',\n",
    "}\n",
    "\n",
    "dates_to_parse = ['earliest_cr_line',\n",
    "                  'issue_d',\n",
    "                  'last_pymnt_d',\n",
    "                  'next_pymnt_d',\n",
    "                  'last_credit_pull_d']\n",
    "\n",
    "data = pd.read_csv(\"../inputs/loan.csv\", dtype=dtype,\n",
    "                   parse_dates=dates_to_parse)"
   ]
  },
  {
   "cell_type": "code",
   "execution_count": null,
   "metadata": {
    "collapsed": true
   },
   "outputs": [],
   "source": [
    "data.info()"
   ]
  },
  {
   "cell_type": "code",
   "execution_count": null,
   "metadata": {
    "collapsed": true
   },
   "outputs": [],
   "source": [
    "data.select_dtypes(include=['object']).nunique()"
   ]
  },
  {
   "cell_type": "code",
   "execution_count": null,
   "metadata": {
    "collapsed": true
   },
   "outputs": [],
   "source": [
    "count_distinct_series = data.select_dtypes(include=['object']).nunique()"
   ]
  },
  {
   "cell_type": "code",
   "execution_count": null,
   "metadata": {
    "collapsed": true,
    "scrolled": true
   },
   "outputs": [],
   "source": [
    "list(count_distinct_series[count_distinct_series < 20].index)"
   ]
  },
  {
   "cell_type": "code",
   "execution_count": null,
   "metadata": {
    "collapsed": true
   },
   "outputs": [],
   "source": [
    "dtype = {\n",
    "    'desc': 'object',\n",
    "    'verification_status_joint': 'category',\n",
    "    'grade': 'category',\n",
    "    'emp_length': 'category',\n",
    "    'home_ownership': 'category',\n",
    "    'verification_status': 'category',\n",
    "    'loan_status': 'category',\n",
    "    'pymnt_plan': 'category',\n",
    "    'purpose': 'category',\n",
    "    'initial_list_status': 'category',\n",
    "    'application_type': 'category',\n",
    "}\n",
    "\n",
    "dates_to_parse = ['earliest_cr_line',\n",
    "                  'issue_d',\n",
    "                  'last_pymnt_d',\n",
    "                  'next_pymnt_d',\n",
    "                  'last_credit_pull_d']\n",
    "\n",
    "data = pd.read_csv(\"../inputs/loan.csv\", dtype=dtype,\n",
    "                   parse_dates=dates_to_parse)"
   ]
  },
  {
   "cell_type": "code",
   "execution_count": null,
   "metadata": {
    "collapsed": true
   },
   "outputs": [],
   "source": [
    "data['term'].value_counts()"
   ]
  },
  {
   "cell_type": "code",
   "execution_count": null,
   "metadata": {
    "collapsed": true
   },
   "outputs": [],
   "source": [
    "data['term'].head()"
   ]
  },
  {
   "cell_type": "code",
   "execution_count": null,
   "metadata": {
    "collapsed": true
   },
   "outputs": [],
   "source": [
    "data.info()"
   ]
  },
  {
   "cell_type": "code",
   "execution_count": null,
   "metadata": {
    "collapsed": true
   },
   "outputs": [],
   "source": [
    "data['term'].str.extract('(\\d+)', expand=False)"
   ]
  },
  {
   "cell_type": "code",
   "execution_count": null,
   "metadata": {
    "collapsed": true
   },
   "outputs": [],
   "source": [
    "data['term'].apply(lambda x: x.extract('\\d+'))"
   ]
  },
  {
   "cell_type": "code",
   "execution_count": null,
   "metadata": {
    "collapsed": true,
    "scrolled": true
   },
   "outputs": [],
   "source": [
    "data = data.assign(term=lambda x: x['term'].str.extract('(\\d+)', expand=False).astype(int))"
   ]
  },
  {
   "cell_type": "code",
   "execution_count": null,
   "metadata": {
    "collapsed": true
   },
   "outputs": [],
   "source": [
    "data.info()"
   ]
  },
  {
   "cell_type": "code",
   "execution_count": null,
   "metadata": {
    "collapsed": true
   },
   "outputs": [],
   "source": [
    "data = data \\\n",
    "        [\n",
    "        ((data['loan_status'].isin(['Fully Paid', 'Charged Off'])) &\n",
    "         (\n",
    "             ((data['issue_d'] < np.datetime64('2012-06-01')) & (data['term'] == 36)) |\n",
    "             ((data['issue_d'] < np.datetime64('2010-06-01')) & (data['term'] == 60))\n",
    "         )\n",
    "         )\n",
    "    ]"
   ]
  },
  {
   "cell_type": "code",
   "execution_count": null,
   "metadata": {
    "collapsed": true
   },
   "outputs": [],
   "source": [
    "(data.loc[data['loan_status'].isin(['Fully Paid', 'Charged Off']), :]\n",
    "     .loc[])"
   ]
  },
  {
   "cell_type": "code",
   "execution_count": null,
   "metadata": {
    "collapsed": true
   },
   "outputs": [],
   "source": [
    "import os\n",
    "import numpy as np\n",
    "import pandas as pd\n",
    "\n",
    "def load_data(file_path):\n",
    "    ''' \n",
    "    This function loads at given path.\n",
    "    Then dates are parsed, categories are casted.\n",
    "    '''\n",
    "    dtype = {\n",
    "    'desc': 'object',\n",
    "    'verification_status_joint': 'category',\n",
    "    'grade': 'category',\n",
    "    'emp_length': 'category',\n",
    "    'home_ownership': 'category',\n",
    "    'verification_status': 'category',\n",
    "    'loan_status': 'category',\n",
    "    'pymnt_plan': 'category',\n",
    "    'purpose': 'category',\n",
    "    'initial_list_status': 'category',\n",
    "    'application_type': 'category',\n",
    "    }\n",
    "\n",
    "    dates_to_parse = [\n",
    "    'earliest_cr_line',\n",
    "    'issue_d',\n",
    "    'last_pymnt_d',\n",
    "    'next_pymnt_d',\n",
    "    'last_credit_pull_d'\n",
    "    ]\n",
    "    \n",
    "    data = (pd.read_csv(file_path, dtype=dtype,\n",
    "                        parse_dates=dates_to_parse)\n",
    "              .assign(term=lambda x: x['term'].str.extract('(\\d+)', \n",
    "                      expand=False).astype(int))\n",
    "              .dropna(axis=1, how='all'))\n",
    "    \n",
    "    return(data)"
   ]
  },
  {
   "cell_type": "code",
   "execution_count": null,
   "metadata": {
    "collapsed": true
   },
   "outputs": [],
   "source": [
    "data = load_data(\"../inputs/loan.csv\")"
   ]
  },
  {
   "cell_type": "code",
   "execution_count": null,
   "metadata": {
    "collapsed": true
   },
   "outputs": [],
   "source": [
    "data.head()"
   ]
  },
  {
   "cell_type": "code",
   "execution_count": null,
   "metadata": {
    "collapsed": true
   },
   "outputs": [],
   "source": [
    "def learn_score_split(df):\n",
    "    '''\n",
    "    Separate train and score data based on issue_d.\n",
    "    '''\n",
    "    closed_short_loans_mask = ((data['issue_d'] < np.datetime64('2012-06-01'))\n",
    "                               & (data['term'] == 36))\n",
    "    closed_long_loans_mask = ((data['issue_d'] < np.datetime64('2010-06-01')) \n",
    "                               & (data['term'] == 60))\n",
    "    closed_loans_mask = closed_short_loans_mask | closed_long_loans_mask\n",
    "\n",
    "    learn_base = df.loc[closed_loans_mask, :].reset_index()\n",
    "    score_base = df.loc[~ closed_loans_mask, :].reset_index()\n",
    "\n",
    "    return learn_base, score_base"
   ]
  },
  {
   "cell_type": "code",
   "execution_count": null,
   "metadata": {
    "collapsed": true
   },
   "outputs": [],
   "source": [
    "learn_base, score_base = learn_score_split(data)"
   ]
  },
  {
   "cell_type": "code",
   "execution_count": null,
   "metadata": {
    "collapsed": true
   },
   "outputs": [],
   "source": [
    "learn_base.head()"
   ]
  },
  {
   "cell_type": "code",
   "execution_count": null,
   "metadata": {
    "collapsed": true
   },
   "outputs": [],
   "source": [
    "score_base.head()"
   ]
  },
  {
   "cell_type": "code",
   "execution_count": null,
   "metadata": {
    "collapsed": true
   },
   "outputs": [],
   "source": [
    "learn_base.to_feather(\"../inputs/learn_base.feather\")"
   ]
  },
  {
   "cell_type": "code",
   "execution_count": null,
   "metadata": {
    "collapsed": true
   },
   "outputs": [],
   "source": [
    "learn_base.index"
   ]
  },
  {
   "cell_type": "code",
   "execution_count": null,
   "metadata": {
    "collapsed": true
   },
   "outputs": [],
   "source": [
    "isinstance(learn_base.index, pd.Int64Index)"
   ]
  },
  {
   "cell_type": "code",
   "execution_count": null,
   "metadata": {
    "collapsed": true
   },
   "outputs": [],
   "source": [
    "learn_base.index.equals(pd.RangeIndex.from_range(range(len(learn_base))))"
   ]
  },
  {
   "cell_type": "markdown",
   "metadata": {},
   "source": [
    "# Learning"
   ]
  },
  {
   "cell_type": "code",
   "execution_count": null,
   "metadata": {
    "collapsed": true
   },
   "outputs": [],
   "source": [
    "import pandas as pd\n",
    "import numpy as np"
   ]
  },
  {
   "cell_type": "code",
   "execution_count": null,
   "metadata": {
    "collapsed": true
   },
   "outputs": [],
   "source": [
    "train_data = pd.read_feather(\"../inputs/learn_base.feather\")"
   ]
  },
  {
   "cell_type": "code",
   "execution_count": null,
   "metadata": {
    "collapsed": true
   },
   "outputs": [],
   "source": [
    "train_data.head()"
   ]
  },
  {
   "cell_type": "code",
   "execution_count": null,
   "metadata": {
    "collapsed": true
   },
   "outputs": [],
   "source": [
    "train_data['loan_status'].value_counts()"
   ]
  },
  {
   "cell_type": "code",
   "execution_count": null,
   "metadata": {
    "collapsed": true
   },
   "outputs": [],
   "source": [
    "# should I use pandas df.where ?\n",
    "train_data = train_data.assign(easy_loan_status=np.where(train_data['loan_status'] == 'Fully Paid', 0, 1))"
   ]
  },
  {
   "cell_type": "code",
   "execution_count": null,
   "metadata": {
    "collapsed": true
   },
   "outputs": [],
   "source": [
    "from sklearn.base import TransformerMixin"
   ]
  },
  {
   "cell_type": "code",
   "execution_count": null,
   "metadata": {
    "collapsed": true
   },
   "outputs": [],
   "source": [
    "class ColumnSelector(TransformerMixin):\n",
    "    def __init__(self, columns):\n",
    "        self.columns = columns\n",
    "        \n",
    "    def fit(self, X, y=None):\n",
    "        return self\n",
    "    \n",
    "    def transform(self, X, y=None):\n",
    "        return X[self.columns]"
   ]
  },
  {
   "cell_type": "code",
   "execution_count": null,
   "metadata": {
    "collapsed": true
   },
   "outputs": [],
   "source": [
    "cs = ColumnSelector(['loan_status', 'term'])"
   ]
  },
  {
   "cell_type": "code",
   "execution_count": null,
   "metadata": {
    "collapsed": true
   },
   "outputs": [],
   "source": [
    "cs.transform(train_data)"
   ]
  },
  {
   "cell_type": "code",
   "execution_count": null,
   "metadata": {
    "collapsed": true
   },
   "outputs": [],
   "source": [
    "train_data.columns"
   ]
  },
  {
   "cell_type": "code",
   "execution_count": null,
   "metadata": {
    "collapsed": true
   },
   "outputs": [],
   "source": [
    "list(train_data.select_dtypes(include=['float']).columns)"
   ]
  },
  {
   "cell_type": "code",
   "execution_count": null,
   "metadata": {
    "collapsed": true
   },
   "outputs": [],
   "source": [
    "columns = list(train_data.select_dtypes(include=['float']).columns)\n",
    "missing_table = train_data[columns].isnull().sum()\n",
    "f_columns = list(missing_table[missing_table == 0].index)"
   ]
  },
  {
   "cell_type": "code",
   "execution_count": null,
   "metadata": {
    "collapsed": true
   },
   "outputs": [],
   "source": [
    "f_columns = ['loan_amnt', 'int_rate', 'installment', 'dti', 'revol_bal']"
   ]
  },
  {
   "cell_type": "code",
   "execution_count": null,
   "metadata": {
    "collapsed": true
   },
   "outputs": [],
   "source": [
    "from sklearn.pipeline import make_pipeline\n",
    "from sklearn.ensemble import RandomForestClassifier\n",
    "#columns = ['loan_amnt', 'int_rate']\n",
    "columns = f_columns\n",
    "\n",
    "rf_pipeline = make_pipeline(\n",
    "\tColumnSelector(columns),\n",
    "\tRandomForestClassifier(),\n",
    "\t)"
   ]
  },
  {
   "cell_type": "code",
   "execution_count": null,
   "metadata": {
    "collapsed": true
   },
   "outputs": [],
   "source": [
    "X = train_data.drop(['easy_loan_status'], axis=1)"
   ]
  },
  {
   "cell_type": "code",
   "execution_count": null,
   "metadata": {
    "collapsed": true
   },
   "outputs": [],
   "source": [
    "y = train_data['easy_loan_status']"
   ]
  },
  {
   "cell_type": "code",
   "execution_count": null,
   "metadata": {
    "collapsed": true
   },
   "outputs": [],
   "source": [
    "rf_pipeline.fit(X, y)"
   ]
  },
  {
   "cell_type": "code",
   "execution_count": null,
   "metadata": {
    "collapsed": true
   },
   "outputs": [],
   "source": [
    "from sklearn.model_selection import cross_val_score"
   ]
  },
  {
   "cell_type": "code",
   "execution_count": null,
   "metadata": {
    "collapsed": true
   },
   "outputs": [],
   "source": [
    "cross_val_score(rf_pipeline, X, y, scoring='roc_auc', cv=10)"
   ]
  },
  {
   "cell_type": "markdown",
   "metadata": {},
   "source": [
    "# GOGO LEARN YMTF"
   ]
  },
  {
   "cell_type": "code",
   "execution_count": 1,
   "metadata": {
    "collapsed": true
   },
   "outputs": [],
   "source": [
    "import numpy as np\n",
    "import pandas as pd\n",
    "\n",
    "from sklearn.preprocessing import Imputer\n",
    "from sklearn.ensemble import RandomForestClassifier\n",
    "\n",
    "from sklearn.base import TransformerMixin\n",
    "from sklearn.preprocessing import FunctionTransformer\n",
    "from sklearn.pipeline import make_pipeline\n",
    "\n",
    "from sklearn.model_selection import cross_val_score\n",
    "\n",
    "from sklearn.externals import joblib"
   ]
  },
  {
   "cell_type": "code",
   "execution_count": 2,
   "metadata": {
    "collapsed": true
   },
   "outputs": [],
   "source": [
    "train_data = pd.read_feather(\"../inputs/learn_base.feather\")"
   ]
  },
  {
   "cell_type": "code",
   "execution_count": 3,
   "metadata": {},
   "outputs": [
    {
     "data": {
      "text/plain": [
       "Fully Paid                                             36332\n",
       "Charged Off                                             4850\n",
       "Does not meet the credit policy. Status:Fully Paid      1800\n",
       "Does not meet the credit policy. Status:Charged Off      653\n",
       "Late (31-120 days)                                         0\n",
       "Late (16-30 days)                                          0\n",
       "Issued                                                     0\n",
       "In Grace Period                                            0\n",
       "Default                                                    0\n",
       "Current                                                    0\n",
       "Name: loan_status, dtype: int64"
      ]
     },
     "execution_count": 3,
     "metadata": {},
     "output_type": "execute_result"
    }
   ],
   "source": [
    "train_data['loan_status'].value_counts()"
   ]
  },
  {
   "cell_type": "code",
   "execution_count": 4,
   "metadata": {},
   "outputs": [
    {
     "data": {
      "text/plain": [
       "Fully Paid                                             36332\n",
       "Charged Off                                             4850\n",
       "Late (31-120 days)                                         0\n",
       "Late (16-30 days)                                          0\n",
       "Issued                                                     0\n",
       "In Grace Period                                            0\n",
       "Does not meet the credit policy. Status:Fully Paid         0\n",
       "Does not meet the credit policy. Status:Charged Off        0\n",
       "Default                                                    0\n",
       "Current                                                    0\n",
       "Name: loan_status, dtype: int64"
      ]
     },
     "execution_count": 4,
     "metadata": {},
     "output_type": "execute_result"
    }
   ],
   "source": [
    "train_data = train_data.loc[train_data['loan_status'].isin(['Fully Paid', 'Charged Off'])]\n",
    "train_data['loan_status'].value_counts()"
   ]
  },
  {
   "cell_type": "code",
   "execution_count": 5,
   "metadata": {
    "collapsed": true
   },
   "outputs": [],
   "source": [
    "train_data = train_data.assign(easy_loan_status=np.where(train_data['loan_status'] == 'Fully Paid', 0, 1))"
   ]
  },
  {
   "cell_type": "code",
   "execution_count": 6,
   "metadata": {},
   "outputs": [
    {
     "data": {
      "text/plain": [
       "0        False\n",
       "1         True\n",
       "2        False\n",
       "3         True\n",
       "4        False\n",
       "5         True\n",
       "6        False\n",
       "7        False\n",
       "8         True\n",
       "9         True\n",
       "10        True\n",
       "11       False\n",
       "12       False\n",
       "13        True\n",
       "14       False\n",
       "15       False\n",
       "16        True\n",
       "17        True\n",
       "18        True\n",
       "19       False\n",
       "20        True\n",
       "21       False\n",
       "22       False\n",
       "23       False\n",
       "24       False\n",
       "25        True\n",
       "26       False\n",
       "27       False\n",
       "28       False\n",
       "29       False\n",
       "         ...  \n",
       "43605    False\n",
       "43606     True\n",
       "43607    False\n",
       "43608     True\n",
       "43609     True\n",
       "43610    False\n",
       "43611    False\n",
       "43612     True\n",
       "43613    False\n",
       "43614     True\n",
       "43615    False\n",
       "43616    False\n",
       "43617    False\n",
       "43618    False\n",
       "43619     True\n",
       "43620     True\n",
       "43621    False\n",
       "43622     True\n",
       "43623     True\n",
       "43624    False\n",
       "43625    False\n",
       "43626     True\n",
       "43627     True\n",
       "43628    False\n",
       "43629     True\n",
       "43630    False\n",
       "43631    False\n",
       "43632     True\n",
       "43633     True\n",
       "43634    False\n",
       "Name: desc, Length: 41182, dtype: bool"
      ]
     },
     "execution_count": 6,
     "metadata": {},
     "output_type": "execute_result"
    }
   ],
   "source": [
    "train_data['desc'].isnull()"
   ]
  },
  {
   "cell_type": "code",
   "execution_count": 7,
   "metadata": {
    "collapsed": true
   },
   "outputs": [],
   "source": [
    "train_data = train_data.assign(has_desc=np.where(train_data['desc'].isnull(), 0, 1))"
   ]
  },
  {
   "cell_type": "code",
   "execution_count": 8,
   "metadata": {
    "collapsed": true
   },
   "outputs": [],
   "source": [
    "class ColumnSelector(TransformerMixin):\n",
    "    def __init__(self, columns):\n",
    "        self.columns = columns\n",
    "    def fit(self, X, y=None):\n",
    "        return self\n",
    "    def transform(self, X, y=None):\n",
    "        return X[self.columns]\n",
    "    def get_params(self, deep=True):\n",
    "        return {'columns': self.columns}"
   ]
  },
  {
   "cell_type": "code",
   "execution_count": 9,
   "metadata": {
    "collapsed": true
   },
   "outputs": [],
   "source": [
    "train_data = train_data.assign(diff_financed=np.abs(train_data['loan_amnt'] - train_data['funded_amnt']))\n",
    "train_data = train_data.loc[train_data['diff_financed'] < 1, :]"
   ]
  },
  {
   "cell_type": "code",
   "execution_count": 10,
   "metadata": {},
   "outputs": [
    {
     "name": "stdout",
     "output_type": "stream",
     "text": [
      "We have a default rate of 11.773446593526337 %\n"
     ]
    }
   ],
   "source": [
    "default_taux = (train_data['easy_loan_status'].sum() / train_data.shape[0]) * 100\n",
    "print(\"We have a default rate of {} %\".format(default_taux))"
   ]
  },
  {
   "cell_type": "code",
   "execution_count": 11,
   "metadata": {
    "scrolled": true
   },
   "outputs": [
    {
     "name": "stdout",
     "output_type": "stream",
     "text": [
      "<class 'pandas.core.frame.DataFrame'>\n",
      "Int64Index: 40379 entries, 0 to 43634\n",
      "Data columns (total 78 columns):\n",
      "index                          40379 non-null int64\n",
      "id                             40379 non-null int64\n",
      "member_id                      40379 non-null int64\n",
      "loan_amnt                      40379 non-null float64\n",
      "funded_amnt                    40379 non-null float64\n",
      "funded_amnt_inv                40379 non-null float64\n",
      "term                           40379 non-null int32\n",
      "int_rate                       40379 non-null float64\n",
      "installment                    40379 non-null float64\n",
      "grade                          40379 non-null category\n",
      "sub_grade                      40379 non-null object\n",
      "emp_title                      37656 non-null object\n",
      "emp_length                     40379 non-null category\n",
      "home_ownership                 40379 non-null category\n",
      "annual_inc                     40379 non-null float64\n",
      "verification_status            40379 non-null category\n",
      "issue_d                        40379 non-null datetime64[ns]\n",
      "loan_status                    40379 non-null category\n",
      "pymnt_plan                     40379 non-null category\n",
      "url                            40379 non-null object\n",
      "desc                           25831 non-null object\n",
      "purpose                        40379 non-null category\n",
      "title                          40373 non-null object\n",
      "zip_code                       40379 non-null object\n",
      "addr_state                     40379 non-null object\n",
      "dti                            40379 non-null float64\n",
      "delinq_2yrs                    40379 non-null float64\n",
      "earliest_cr_line               40379 non-null datetime64[ns]\n",
      "inq_last_6mths                 40379 non-null float64\n",
      "mths_since_last_delinq         13924 non-null float64\n",
      "mths_since_last_record         2519 non-null float64\n",
      "open_acc                       40379 non-null float64\n",
      "pub_rec                        40379 non-null float64\n",
      "revol_bal                      40379 non-null float64\n",
      "revol_util                     40315 non-null float64\n",
      "total_acc                      40379 non-null float64\n",
      "initial_list_status            40379 non-null category\n",
      "out_prncp                      40379 non-null float64\n",
      "out_prncp_inv                  40379 non-null float64\n",
      "total_pymnt                    40379 non-null float64\n",
      "total_pymnt_inv                40379 non-null float64\n",
      "total_rec_prncp                40379 non-null float64\n",
      "total_rec_int                  40379 non-null float64\n",
      "total_rec_late_fee             40379 non-null float64\n",
      "recoveries                     40379 non-null float64\n",
      "collection_recovery_fee        40379 non-null float64\n",
      "last_pymnt_d                   40307 non-null datetime64[ns]\n",
      "last_pymnt_amnt                40379 non-null float64\n",
      "next_pymnt_d                   0 non-null datetime64[ns]\n",
      "last_credit_pull_d             40377 non-null datetime64[ns]\n",
      "collections_12_mths_ex_med     40323 non-null float64\n",
      "mths_since_last_major_derog    0 non-null float64\n",
      "policy_code                    40379 non-null float64\n",
      "application_type               40379 non-null category\n",
      "annual_inc_joint               0 non-null float64\n",
      "dti_joint                      0 non-null float64\n",
      "verification_status_joint      0 non-null category\n",
      "acc_now_delinq                 40379 non-null float64\n",
      "tot_coll_amt                   0 non-null float64\n",
      "tot_cur_bal                    0 non-null float64\n",
      "open_acc_6m                    0 non-null float64\n",
      "open_il_6m                     0 non-null float64\n",
      "open_il_12m                    0 non-null float64\n",
      "open_il_24m                    0 non-null float64\n",
      "mths_since_rcnt_il             0 non-null float64\n",
      "total_bal_il                   0 non-null float64\n",
      "il_util                        0 non-null float64\n",
      "open_rv_12m                    0 non-null float64\n",
      "open_rv_24m                    0 non-null float64\n",
      "max_bal_bc                     0 non-null float64\n",
      "all_util                       0 non-null float64\n",
      "total_rev_hi_lim               0 non-null float64\n",
      "inq_fi                         0 non-null float64\n",
      "total_cu_tl                    0 non-null float64\n",
      "inq_last_12m                   0 non-null float64\n",
      "easy_loan_status               40379 non-null int32\n",
      "has_desc                       40379 non-null int32\n",
      "diff_financed                  40379 non-null float64\n",
      "dtypes: category(10), datetime64[ns](5), float64(50), int32(3), int64(3), object(7)\n",
      "memory usage: 21.2+ MB\n"
     ]
    }
   ],
   "source": [
    "train_data.info()"
   ]
  },
  {
   "cell_type": "code",
   "execution_count": 12,
   "metadata": {},
   "outputs": [
    {
     "data": {
      "text/plain": [
       "debt_consolidation    18942\n",
       "credit_card            6524\n",
       "other                  3828\n",
       "home_improvement       2725\n",
       "major_purchase         2058\n",
       "small_business         1635\n",
       "car                    1267\n",
       "wedding                 941\n",
       "medical                 702\n",
       "moving                  587\n",
       "vacation                408\n",
       "house                   367\n",
       "educational             302\n",
       "renewable_energy         93\n",
       "Name: purpose, dtype: int64"
      ]
     },
     "execution_count": 12,
     "metadata": {},
     "output_type": "execute_result"
    }
   ],
   "source": [
    "train_data['purpose'].value_counts()"
   ]
  },
  {
   "cell_type": "code",
   "execution_count": 13,
   "metadata": {
    "collapsed": true
   },
   "outputs": [],
   "source": [
    "num_features = ['loan_amnt', 'int_rate', 'installment', 'annual_inc', 'has_desc', 'dti', 'delinq_2yrs']\n",
    "cat_features = ['grade', 'home_ownership', 'verification_status', 'purpose']\n",
    "all_features = num_features + cat_features"
   ]
  },
  {
   "cell_type": "code",
   "execution_count": 14,
   "metadata": {
    "collapsed": true
   },
   "outputs": [],
   "source": [
    "X = train_data.drop(['easy_loan_status'], axis=1)\n",
    "y = train_data['easy_loan_status']"
   ]
  },
  {
   "cell_type": "code",
   "execution_count": 15,
   "metadata": {
    "collapsed": true
   },
   "outputs": [],
   "source": [
    "rf_params = {'n_estimators': 100,\n",
    "             'max_depth': 5,}\n",
    "\n",
    "rf_pipeline = make_pipeline(\n",
    "              ColumnSelector(all_features),\n",
    "              FunctionTransformer(pd.get_dummies, validate=False, kw_args={'dummy_na': True}),\n",
    "              Imputer(strategy='median'),\n",
    "              RandomForestClassifier(**rf_params),\n",
    "              )"
   ]
  },
  {
   "cell_type": "code",
   "execution_count": 16,
   "metadata": {
    "collapsed": true
   },
   "outputs": [],
   "source": [
    "?make_pipeline"
   ]
  },
  {
   "cell_type": "code",
   "execution_count": 17,
   "metadata": {},
   "outputs": [
    {
     "data": {
      "text/plain": [
       "dict_keys(['steps', 'columnselector', 'functiontransformer', 'imputer', 'randomforestclassifier', 'columnselector__columns', 'functiontransformer__accept_sparse', 'functiontransformer__func', 'functiontransformer__inv_kw_args', 'functiontransformer__inverse_func', 'functiontransformer__kw_args', 'functiontransformer__pass_y', 'functiontransformer__validate', 'imputer__axis', 'imputer__copy', 'imputer__missing_values', 'imputer__strategy', 'imputer__verbose', 'randomforestclassifier__bootstrap', 'randomforestclassifier__class_weight', 'randomforestclassifier__criterion', 'randomforestclassifier__max_depth', 'randomforestclassifier__max_features', 'randomforestclassifier__max_leaf_nodes', 'randomforestclassifier__min_impurity_split', 'randomforestclassifier__min_samples_leaf', 'randomforestclassifier__min_samples_split', 'randomforestclassifier__min_weight_fraction_leaf', 'randomforestclassifier__n_estimators', 'randomforestclassifier__n_jobs', 'randomforestclassifier__oob_score', 'randomforestclassifier__random_state', 'randomforestclassifier__verbose', 'randomforestclassifier__warm_start'])"
      ]
     },
     "execution_count": 17,
     "metadata": {},
     "output_type": "execute_result"
    }
   ],
   "source": [
    "rf_pipeline.get_params().keys()"
   ]
  },
  {
   "cell_type": "code",
   "execution_count": 18,
   "metadata": {
    "collapsed": true
   },
   "outputs": [],
   "source": [
    "from sklearn.model_selection import cross_val_predict\n",
    "?cross_val_predict"
   ]
  },
  {
   "cell_type": "code",
   "execution_count": 19,
   "metadata": {},
   "outputs": [
    {
     "data": {
      "text/plain": [
       "array([ 0.65683952,  0.67432634,  0.6479206 ,  0.58370742,  0.62534175])"
      ]
     },
     "execution_count": 19,
     "metadata": {},
     "output_type": "execute_result"
    }
   ],
   "source": [
    "cross_val_score(rf_pipeline, X, y, cv=5, scoring='roc_auc')"
   ]
  },
  {
   "cell_type": "code",
   "execution_count": 20,
   "metadata": {},
   "outputs": [
    {
     "data": {
      "text/html": [
       "<div>\n",
       "<style>\n",
       "    .dataframe thead tr:only-child th {\n",
       "        text-align: right;\n",
       "    }\n",
       "\n",
       "    .dataframe thead th {\n",
       "        text-align: left;\n",
       "    }\n",
       "\n",
       "    .dataframe tbody tr th {\n",
       "        vertical-align: top;\n",
       "    }\n",
       "</style>\n",
       "<table border=\"1\" class=\"dataframe\">\n",
       "  <thead>\n",
       "    <tr style=\"text-align: right;\">\n",
       "      <th></th>\n",
       "      <th>easy_loan_status</th>\n",
       "    </tr>\n",
       "    <tr>\n",
       "      <th>purpose</th>\n",
       "      <th></th>\n",
       "    </tr>\n",
       "  </thead>\n",
       "  <tbody>\n",
       "    <tr>\n",
       "      <th>car</th>\n",
       "      <td>0.087609</td>\n",
       "    </tr>\n",
       "    <tr>\n",
       "      <th>credit_card</th>\n",
       "      <td>0.089669</td>\n",
       "    </tr>\n",
       "    <tr>\n",
       "      <th>debt_consolidation</th>\n",
       "      <td>0.121951</td>\n",
       "    </tr>\n",
       "    <tr>\n",
       "      <th>educational</th>\n",
       "      <td>0.158940</td>\n",
       "    </tr>\n",
       "    <tr>\n",
       "      <th>home_improvement</th>\n",
       "      <td>0.096514</td>\n",
       "    </tr>\n",
       "    <tr>\n",
       "      <th>house</th>\n",
       "      <td>0.125341</td>\n",
       "    </tr>\n",
       "    <tr>\n",
       "      <th>major_purchase</th>\n",
       "      <td>0.084548</td>\n",
       "    </tr>\n",
       "    <tr>\n",
       "      <th>medical</th>\n",
       "      <td>0.145299</td>\n",
       "    </tr>\n",
       "    <tr>\n",
       "      <th>moving</th>\n",
       "      <td>0.155026</td>\n",
       "    </tr>\n",
       "    <tr>\n",
       "      <th>other</th>\n",
       "      <td>0.137409</td>\n",
       "    </tr>\n",
       "    <tr>\n",
       "      <th>renewable_energy</th>\n",
       "      <td>0.215054</td>\n",
       "    </tr>\n",
       "    <tr>\n",
       "      <th>small_business</th>\n",
       "      <td>0.208563</td>\n",
       "    </tr>\n",
       "    <tr>\n",
       "      <th>vacation</th>\n",
       "      <td>0.134804</td>\n",
       "    </tr>\n",
       "    <tr>\n",
       "      <th>wedding</th>\n",
       "      <td>0.087141</td>\n",
       "    </tr>\n",
       "  </tbody>\n",
       "</table>\n",
       "</div>"
      ],
      "text/plain": [
       "                    easy_loan_status\n",
       "purpose                             \n",
       "car                         0.087609\n",
       "credit_card                 0.089669\n",
       "debt_consolidation          0.121951\n",
       "educational                 0.158940\n",
       "home_improvement            0.096514\n",
       "house                       0.125341\n",
       "major_purchase              0.084548\n",
       "medical                     0.145299\n",
       "moving                      0.155026\n",
       "other                       0.137409\n",
       "renewable_energy            0.215054\n",
       "small_business              0.208563\n",
       "vacation                    0.134804\n",
       "wedding                     0.087141"
      ]
     },
     "execution_count": 20,
     "metadata": {},
     "output_type": "execute_result"
    }
   ],
   "source": [
    "train_data.groupby('purpose').agg({'easy_loan_status': np.mean})"
   ]
  },
  {
   "cell_type": "code",
   "execution_count": 21,
   "metadata": {
    "collapsed": true
   },
   "outputs": [],
   "source": [
    "from sklearn.model_selection import GridSearchCV"
   ]
  },
  {
   "cell_type": "code",
   "execution_count": 22,
   "metadata": {},
   "outputs": [
    {
     "data": {
      "text/plain": [
       "{'columnselector': <__main__.ColumnSelector at 0x1fa28f0cb00>,\n",
       " 'columnselector__columns': ['loan_amnt',\n",
       "  'int_rate',\n",
       "  'installment',\n",
       "  'annual_inc',\n",
       "  'has_desc',\n",
       "  'dti',\n",
       "  'delinq_2yrs',\n",
       "  'grade',\n",
       "  'home_ownership',\n",
       "  'verification_status',\n",
       "  'purpose'],\n",
       " 'functiontransformer': FunctionTransformer(accept_sparse=False,\n",
       "           func=<function get_dummies at 0x000001FA26800620>,\n",
       "           inv_kw_args=None, inverse_func=None, kw_args={'dummy_na': True},\n",
       "           pass_y=False, validate=False),\n",
       " 'functiontransformer__accept_sparse': False,\n",
       " 'functiontransformer__func': <function pandas.core.reshape.reshape.get_dummies>,\n",
       " 'functiontransformer__inv_kw_args': None,\n",
       " 'functiontransformer__inverse_func': None,\n",
       " 'functiontransformer__kw_args': {'dummy_na': True},\n",
       " 'functiontransformer__pass_y': False,\n",
       " 'functiontransformer__validate': False,\n",
       " 'imputer': Imputer(axis=0, copy=True, missing_values='NaN', strategy='median', verbose=0),\n",
       " 'imputer__axis': 0,\n",
       " 'imputer__copy': True,\n",
       " 'imputer__missing_values': 'NaN',\n",
       " 'imputer__strategy': 'median',\n",
       " 'imputer__verbose': 0,\n",
       " 'randomforestclassifier': RandomForestClassifier(bootstrap=True, class_weight=None, criterion='gini',\n",
       "             max_depth=5, max_features='auto', max_leaf_nodes=None,\n",
       "             min_impurity_split=1e-07, min_samples_leaf=1,\n",
       "             min_samples_split=2, min_weight_fraction_leaf=0.0,\n",
       "             n_estimators=100, n_jobs=1, oob_score=False, random_state=None,\n",
       "             verbose=0, warm_start=False),\n",
       " 'randomforestclassifier__bootstrap': True,\n",
       " 'randomforestclassifier__class_weight': None,\n",
       " 'randomforestclassifier__criterion': 'gini',\n",
       " 'randomforestclassifier__max_depth': 5,\n",
       " 'randomforestclassifier__max_features': 'auto',\n",
       " 'randomforestclassifier__max_leaf_nodes': None,\n",
       " 'randomforestclassifier__min_impurity_split': 1e-07,\n",
       " 'randomforestclassifier__min_samples_leaf': 1,\n",
       " 'randomforestclassifier__min_samples_split': 2,\n",
       " 'randomforestclassifier__min_weight_fraction_leaf': 0.0,\n",
       " 'randomforestclassifier__n_estimators': 100,\n",
       " 'randomforestclassifier__n_jobs': 1,\n",
       " 'randomforestclassifier__oob_score': False,\n",
       " 'randomforestclassifier__random_state': None,\n",
       " 'randomforestclassifier__verbose': 0,\n",
       " 'randomforestclassifier__warm_start': False,\n",
       " 'steps': [('columnselector', <__main__.ColumnSelector at 0x1fa28f0cb00>),\n",
       "  ('functiontransformer', FunctionTransformer(accept_sparse=False,\n",
       "             func=<function get_dummies at 0x000001FA26800620>,\n",
       "             inv_kw_args=None, inverse_func=None, kw_args={'dummy_na': True},\n",
       "             pass_y=False, validate=False)),\n",
       "  ('imputer',\n",
       "   Imputer(axis=0, copy=True, missing_values='NaN', strategy='median', verbose=0)),\n",
       "  ('randomforestclassifier',\n",
       "   RandomForestClassifier(bootstrap=True, class_weight=None, criterion='gini',\n",
       "               max_depth=5, max_features='auto', max_leaf_nodes=None,\n",
       "               min_impurity_split=1e-07, min_samples_leaf=1,\n",
       "               min_samples_split=2, min_weight_fraction_leaf=0.0,\n",
       "               n_estimators=100, n_jobs=1, oob_score=False, random_state=None,\n",
       "               verbose=0, warm_start=False))]}"
      ]
     },
     "execution_count": 22,
     "metadata": {},
     "output_type": "execute_result"
    }
   ],
   "source": [
    "rf_pipeline.get_params()"
   ]
  },
  {
   "cell_type": "code",
   "execution_count": 23,
   "metadata": {
    "collapsed": true
   },
   "outputs": [],
   "source": [
    "param_grid = {'randomforestclassifier__n_estimators': [5, 10, 20]}\n",
    "grid_search = GridSearchCV(rf_pipeline, param_grid=param_grid)"
   ]
  },
  {
   "cell_type": "code",
   "execution_count": 24,
   "metadata": {},
   "outputs": [
    {
     "data": {
      "text/plain": [
       "GridSearchCV(cv=None, error_score='raise',\n",
       "       estimator=Pipeline(steps=[('columnselector', <__main__.ColumnSelector object at 0x000001FA28F0CB00>), ('functiontransformer', FunctionTransformer(accept_sparse=False,\n",
       "          func=<function get_dummies at 0x000001FA26800620>,\n",
       "          inv_kw_args=None, inverse_func=None, kw_args={'dummy_na': True},\n",
       "          pass_y...mators=100, n_jobs=1, oob_score=False, random_state=None,\n",
       "            verbose=0, warm_start=False))]),\n",
       "       fit_params={}, iid=True, n_jobs=1,\n",
       "       param_grid={'randomforestclassifier__n_estimators': [5, 10, 20]},\n",
       "       pre_dispatch='2*n_jobs', refit=True, return_train_score=True,\n",
       "       scoring=None, verbose=0)"
      ]
     },
     "execution_count": 24,
     "metadata": {},
     "output_type": "execute_result"
    }
   ],
   "source": [
    "grid_search.fit(X,y)"
   ]
  },
  {
   "cell_type": "code",
   "execution_count": 25,
   "metadata": {},
   "outputs": [
    {
     "data": {
      "text/plain": [
       "{'randomforestclassifier__n_estimators': 5}"
      ]
     },
     "execution_count": 25,
     "metadata": {},
     "output_type": "execute_result"
    }
   ],
   "source": [
    "grid_search.best_params_"
   ]
  },
  {
   "cell_type": "markdown",
   "metadata": {
    "collapsed": true
   },
   "source": [
    "# Plot it sns"
   ]
  },
  {
   "cell_type": "code",
   "execution_count": 28,
   "metadata": {
    "collapsed": true
   },
   "outputs": [],
   "source": [
    "full_features = all_features + ['easy_loan_status']"
   ]
  },
  {
   "cell_type": "code",
   "execution_count": 30,
   "metadata": {
    "collapsed": true
   },
   "outputs": [],
   "source": [
    "df = train_data.loc[:, full_features]"
   ]
  },
  {
   "cell_type": "code",
   "execution_count": 31,
   "metadata": {},
   "outputs": [
    {
     "data": {
      "text/html": [
       "<div>\n",
       "<style>\n",
       "    .dataframe thead tr:only-child th {\n",
       "        text-align: right;\n",
       "    }\n",
       "\n",
       "    .dataframe thead th {\n",
       "        text-align: left;\n",
       "    }\n",
       "\n",
       "    .dataframe tbody tr th {\n",
       "        vertical-align: top;\n",
       "    }\n",
       "</style>\n",
       "<table border=\"1\" class=\"dataframe\">\n",
       "  <thead>\n",
       "    <tr style=\"text-align: right;\">\n",
       "      <th></th>\n",
       "      <th>loan_amnt</th>\n",
       "      <th>int_rate</th>\n",
       "      <th>installment</th>\n",
       "      <th>annual_inc</th>\n",
       "      <th>has_desc</th>\n",
       "      <th>dti</th>\n",
       "      <th>delinq_2yrs</th>\n",
       "      <th>grade</th>\n",
       "      <th>home_ownership</th>\n",
       "      <th>verification_status</th>\n",
       "      <th>purpose</th>\n",
       "      <th>easy_loan_status</th>\n",
       "    </tr>\n",
       "  </thead>\n",
       "  <tbody>\n",
       "    <tr>\n",
       "      <th>0</th>\n",
       "      <td>5000.0</td>\n",
       "      <td>10.65</td>\n",
       "      <td>162.87</td>\n",
       "      <td>24000.0</td>\n",
       "      <td>1</td>\n",
       "      <td>27.65</td>\n",
       "      <td>0.0</td>\n",
       "      <td>B</td>\n",
       "      <td>RENT</td>\n",
       "      <td>Verified</td>\n",
       "      <td>credit_card</td>\n",
       "      <td>0</td>\n",
       "    </tr>\n",
       "    <tr>\n",
       "      <th>1</th>\n",
       "      <td>2400.0</td>\n",
       "      <td>15.96</td>\n",
       "      <td>84.33</td>\n",
       "      <td>12252.0</td>\n",
       "      <td>0</td>\n",
       "      <td>8.72</td>\n",
       "      <td>0.0</td>\n",
       "      <td>C</td>\n",
       "      <td>RENT</td>\n",
       "      <td>Not Verified</td>\n",
       "      <td>small_business</td>\n",
       "      <td>0</td>\n",
       "    </tr>\n",
       "    <tr>\n",
       "      <th>2</th>\n",
       "      <td>10000.0</td>\n",
       "      <td>13.49</td>\n",
       "      <td>339.31</td>\n",
       "      <td>49200.0</td>\n",
       "      <td>1</td>\n",
       "      <td>20.00</td>\n",
       "      <td>0.0</td>\n",
       "      <td>C</td>\n",
       "      <td>RENT</td>\n",
       "      <td>Source Verified</td>\n",
       "      <td>other</td>\n",
       "      <td>0</td>\n",
       "    </tr>\n",
       "    <tr>\n",
       "      <th>3</th>\n",
       "      <td>5000.0</td>\n",
       "      <td>7.90</td>\n",
       "      <td>156.46</td>\n",
       "      <td>36000.0</td>\n",
       "      <td>0</td>\n",
       "      <td>11.20</td>\n",
       "      <td>0.0</td>\n",
       "      <td>A</td>\n",
       "      <td>RENT</td>\n",
       "      <td>Source Verified</td>\n",
       "      <td>wedding</td>\n",
       "      <td>0</td>\n",
       "    </tr>\n",
       "    <tr>\n",
       "      <th>4</th>\n",
       "      <td>3000.0</td>\n",
       "      <td>18.64</td>\n",
       "      <td>109.43</td>\n",
       "      <td>48000.0</td>\n",
       "      <td>1</td>\n",
       "      <td>5.35</td>\n",
       "      <td>0.0</td>\n",
       "      <td>E</td>\n",
       "      <td>RENT</td>\n",
       "      <td>Source Verified</td>\n",
       "      <td>car</td>\n",
       "      <td>0</td>\n",
       "    </tr>\n",
       "  </tbody>\n",
       "</table>\n",
       "</div>"
      ],
      "text/plain": [
       "   loan_amnt  int_rate  installment  annual_inc  has_desc    dti  delinq_2yrs  \\\n",
       "0     5000.0     10.65       162.87     24000.0         1  27.65          0.0   \n",
       "1     2400.0     15.96        84.33     12252.0         0   8.72          0.0   \n",
       "2    10000.0     13.49       339.31     49200.0         1  20.00          0.0   \n",
       "3     5000.0      7.90       156.46     36000.0         0  11.20          0.0   \n",
       "4     3000.0     18.64       109.43     48000.0         1   5.35          0.0   \n",
       "\n",
       "  grade home_ownership verification_status         purpose  easy_loan_status  \n",
       "0     B           RENT            Verified     credit_card                 0  \n",
       "1     C           RENT        Not Verified  small_business                 0  \n",
       "2     C           RENT     Source Verified           other                 0  \n",
       "3     A           RENT     Source Verified         wedding                 0  \n",
       "4     E           RENT     Source Verified             car                 0  "
      ]
     },
     "execution_count": 31,
     "metadata": {},
     "output_type": "execute_result"
    }
   ],
   "source": [
    "df.head()"
   ]
  },
  {
   "cell_type": "code",
   "execution_count": 32,
   "metadata": {
    "collapsed": true
   },
   "outputs": [],
   "source": [
    "%matplotlib inline"
   ]
  },
  {
   "cell_type": "code",
   "execution_count": 33,
   "metadata": {
    "collapsed": true
   },
   "outputs": [],
   "source": [
    "import numpy as np\n",
    "import matplotlib as mpl\n",
    "import matplotlib.pyplot as plt\n",
    "import seaborn as sns"
   ]
  },
  {
   "cell_type": "code",
   "execution_count": 34,
   "metadata": {
    "collapsed": true
   },
   "outputs": [],
   "source": [
    "def sinplot(flip=1):\n",
    "    x = np.linspace(0, 14, 100)\n",
    "    for i in range(1, 7):\n",
    "        plt.plot(x, np.sin(x + i*.5) * (7 - i) * flip)"
   ]
  },
  {
   "cell_type": "code",
   "execution_count": 35,
   "metadata": {},
   "outputs": [
    {
     "data": {
      "image/png": "[encoded data removed]",
      "text/plain": [
       "<matplotlib.figure.Figure at 0x1fa2a5fd2b0>"
      ]
     },
     "metadata": {},
     "output_type": "display_data"
    }
   ],
   "source": [
    "sinplot()"
   ]
  },
  {
   "cell_type": "code",
   "execution_count": 36,
   "metadata": {
    "collapsed": true
   },
   "outputs": [],
   "source": [
    "from scipy import stats, integrate\n",
    "sns.set(color_codes=True)"
   ]
  },
  {
   "cell_type": "code",
   "execution_count": 37,
   "metadata": {},
   "outputs": [
    {
     "data": {
      "text/plain": [
       "<matplotlib.axes._subplots.AxesSubplot at 0x1fa2aa8d2b0>"
      ]
     },
     "execution_count": 37,
     "metadata": {},
     "output_type": "execute_result"
    },
    {
     "data": {
      "image/png": "[encoded data removed]",
      "text/plain": [
       "<matplotlib.figure.Figure at 0x1fa2aa2d5c0>"
      ]
     },
     "metadata": {},
     "output_type": "display_data"
    }
   ],
   "source": [
    "x = np.random.normal(size=100)\n",
    "sns.distplot(x)"
   ]
  },
  {
   "cell_type": "code",
   "execution_count": 38,
   "metadata": {
    "collapsed": true
   },
   "outputs": [],
   "source": [
    "?sns.distplot"
   ]
  },
  {
   "cell_type": "code",
   "execution_count": 39,
   "metadata": {},
   "outputs": [
    {
     "data": {
      "text/plain": [
       "<matplotlib.legend.Legend at 0x1fa2aab16d8>"
      ]
     },
     "execution_count": 39,
     "metadata": {},
     "output_type": "execute_result"
    },
    {
     "data": {
      "image/png": "[encoded data removed]",
      "text/plain": [
       "<matplotlib.figure.Figure at 0x1fa2aab1400>"
      ]
     },
     "metadata": {},
     "output_type": "display_data"
    }
   ],
   "source": [
    "sns.kdeplot(x)\n",
    "sns.kdeplot(x, bw=.2, label=\"bw:0.2\")\n",
    "sns.kdeplot(x, bw=2, label=\"bw:2\")\n",
    "plt.legend()"
   ]
  },
  {
   "cell_type": "code",
   "execution_count": 40,
   "metadata": {},
   "outputs": [
    {
     "data": {
      "text/plain": [
       "<matplotlib.axes._subplots.AxesSubplot at 0x1fa2aaa3c18>"
      ]
     },
     "execution_count": 40,
     "metadata": {},
     "output_type": "execute_result"
    },
    {
     "data": {
      "image/png": "[encoded data removed]",
      "text/plain": [
       "<matplotlib.figure.Figure at 0x1fa2ac1b860>"
      ]
     },
     "metadata": {},
     "output_type": "display_data"
    }
   ],
   "source": [
    "sns.distplot(x, kde=False, fit=stats.gamma)"
   ]
  },
  {
   "cell_type": "code",
   "execution_count": null,
   "metadata": {
    "collapsed": true
   },
   "outputs": [],
   "source": []
  }
 ],
 "metadata": {
  "kernelspec": {
   "display_name": "Python 3",
   "language": "python",
   "name": "python3"
  },
  "language_info": {
   "codemirror_mode": {
    "name": "ipython",
    "version": 3
   },
   "file_extension": ".py",
   "mimetype": "text/x-python",
   "name": "python",
   "nbconvert_exporter": "python",
   "pygments_lexer": "ipython3",
   "version": "3.6.1"
  }
 },
 "nbformat": 4,
 "nbformat_minor": 2
}
